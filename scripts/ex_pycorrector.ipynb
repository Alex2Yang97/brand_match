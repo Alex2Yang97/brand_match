{
 "cells": [
  {
   "cell_type": "code",
   "execution_count": 24,
   "metadata": {},
   "outputs": [],
   "source": [
    "import pycorrector\n",
    "\n",
    "import sys\n",
    "sys.path.append('../')\n",
    "\n",
    "from main_pj.config import SCPT_DIR"
   ]
  },
  {
   "cell_type": "markdown",
   "metadata": {},
   "source": [
    "- 文本纠错"
   ]
  },
  {
   "cell_type": "code",
   "execution_count": 2,
   "metadata": {},
   "outputs": [
    {
     "name": "stderr",
     "output_type": "stream",
     "text": [
      "[  DEBUG 20201223 01:43:57 detector:  87] Loaded language model: C:\\Users\\10768\\.pycorrector\\datasets\\zh_giga.no_cna_cmn.prune01244.klm, spend: 9.330 s.\n",
      "[  DEBUG 20201223 01:44:00 detector: 106] Loaded dict file, spend: 2.642 s.\n"
     ]
    },
    {
     "name": "stdout",
     "output_type": "stream",
     "text": [
      "少先队员应该为老人让座 [['因该', '应该', 4, 6], ['坐', '座', 10, 11]]\n"
     ]
    }
   ],
   "source": [
    "corrected_sent, detail = pycorrector.correct('少先队员因该为老人让坐')\n",
    "print(corrected_sent, detail)"
   ]
  },
  {
   "cell_type": "markdown",
   "metadata": {},
   "source": [
    "- 错误检测"
   ]
  },
  {
   "cell_type": "code",
   "execution_count": 3,
   "metadata": {},
   "outputs": [
    {
     "name": "stdout",
     "output_type": "stream",
     "text": [
      "[['因该', 4, 6, 'word'], ['坐', 10, 11, 'char']]\n"
     ]
    }
   ],
   "source": [
    "idx_errors = pycorrector.detect('少先队员因该为老人让坐')\n",
    "print(idx_errors)"
   ]
  },
  {
   "cell_type": "markdown",
   "metadata": {},
   "source": [
    "- 关闭字粒度纠错"
   ]
  },
  {
   "cell_type": "code",
   "execution_count": 18,
   "metadata": {},
   "outputs": [
    {
     "name": "stdout",
     "output_type": "stream",
     "text": [
      "('我的喉咙发炎了要买点阿莫西林吃', [['细林', '西林', 12, 14]])\n"
     ]
    }
   ],
   "source": [
    "error_sentence_1 = '我的喉咙发炎了要买点阿莫细林吃'\n",
    "pycorrector.enable_char_error(enable=True)\n",
    "correct_sent = pycorrector.correct(error_sentence_1)\n",
    "print(correct_sent)"
   ]
  },
  {
   "cell_type": "code",
   "execution_count": 19,
   "metadata": {},
   "outputs": [
    {
     "name": "stdout",
     "output_type": "stream",
     "text": [
      "('我的喉咙发炎了要买点阿莫西林吃', [['细林', '西林', 12, 14]])\n"
     ]
    }
   ],
   "source": [
    "error_sentence_1 = '我的喉咙发炎了要买点阿莫细林吃'\n",
    "pycorrector.enable_char_error(enable=False)\n",
    "correct_sent = pycorrector.correct(error_sentence_1)\n",
    "print(correct_sent)"
   ]
  },
  {
   "cell_type": "markdown",
   "metadata": {},
   "source": [
    "- 加载自定义混淆集"
   ]
  },
  {
   "cell_type": "code",
   "execution_count": 25,
   "metadata": {},
   "outputs": [
    {
     "name": "stdout",
     "output_type": "stream",
     "text": [
      "('买iphonex，要多少钱', [])\n",
      "('我想喝小明同学。', [])\n",
      "('哪里卖苹果吧？请大叔给我让坐', [])\n",
      "('交通先行了怎么过去啊？', [])\n",
      "('共同实际控制人萧华、霍荣铨、张启康', [['张旗康', '张启康', 14, 17]])\n",
      "('上述承诺内容系本人真实意思表示', [])\n",
      "******************************************\n",
      "('买iphoneX，要多少钱', [['iphonex', 'iphoneX', 1, 8]])\n",
      "('我想喝小茗同学。', [['小明同学', '小茗同学', 3, 7]])\n",
      "('哪里卖苹果八？请大叔给我让坐', [['苹果吧', '苹果八', 3, 6]])\n",
      "('交通限行了怎么过去啊？', [['交通先行', '交通限行', 0, 4]])\n",
      "('共同实际控制人萧华、霍荣铨、张旗康', [])\n",
      "('上述承诺内容系本人真实意思表示', [])\n"
     ]
    }
   ],
   "source": [
    "# pycorrector.set_log_level('INFO')\n",
    "if __name__ == '__main__':\n",
    "\n",
    "    error_sentences = [\n",
    "        '买iphonex，要多少钱',  # 漏召回\n",
    "        '我想喝小明同学。',  # 漏召回\n",
    "        '哪里卖苹果吧？请大叔给我让坐',  # 漏召回\n",
    "        '交通先行了怎么过去啊？',  # 漏召回\n",
    "        '共同实际控制人萧华、霍荣铨、张旗康',  # 误杀\n",
    "        '上述承诺内容系本人真实意思表示',  # 正常\n",
    "    ]\n",
    "    for line in error_sentences:\n",
    "        print(pycorrector.correct(line))\n",
    "\n",
    "    print('*' * 42)\n",
    "    pycorrector.set_custom_confusion_dict(path='./my_custom_confusion.txt')\n",
    "    for line in error_sentences:\n",
    "        print(pycorrector.correct(line))"
   ]
  },
  {
   "cell_type": "code",
   "execution_count": null,
   "metadata": {},
   "outputs": [],
   "source": []
  }
 ],
 "metadata": {
  "kernelspec": {
   "display_name": "Python 3",
   "language": "python",
   "name": "python3"
  },
  "language_info": {
   "codemirror_mode": {
    "name": "ipython",
    "version": 3
   },
   "file_extension": ".py",
   "mimetype": "text/x-python",
   "name": "python",
   "nbconvert_exporter": "python",
   "pygments_lexer": "ipython3",
   "version": "3.8.5"
  }
 },
 "nbformat": 4,
 "nbformat_minor": 4
}
